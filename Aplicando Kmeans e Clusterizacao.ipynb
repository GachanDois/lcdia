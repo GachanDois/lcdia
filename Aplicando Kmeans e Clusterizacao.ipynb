{
 "cells": [
  {
   "cell_type": "code",
   "execution_count": 205,
   "metadata": {},
   "outputs": [],
   "source": [
    "import pandas as pd\n",
    "import numpy as np\n",
    "import matplotlib.pyplot as plt\n",
    "from matplotlib.lines import Line2D\n",
    "from sklearn.cluster import KMeans\n",
    "import numpy as np\n",
    "from pandas import merge\n",
    "import re\n"
   ]
  },
  {
   "cell_type": "code",
   "execution_count": 206,
   "metadata": {},
   "outputs": [],
   "source": [
    "df = pd.read_pickle('df_num')\n",
    "drugbank_df = pd.read_pickle('db_df')"
   ]
  },
  {
   "cell_type": "code",
   "execution_count": 207,
   "metadata": {},
   "outputs": [],
   "source": [
    "k = 3\n",
    "kmeans = KMeans(n_clusters=k)\n",
    "y_pred = kmeans.fit_predict(df)"
   ]
  },
  {
   "cell_type": "code",
   "execution_count": 208,
   "metadata": {},
   "outputs": [
    {
     "data": {
      "text/plain": [
       "True"
      ]
     },
     "execution_count": 208,
     "metadata": {},
     "output_type": "execute_result"
    }
   ],
   "source": [
    "y_pred is kmeans.labels_\n"
   ]
  },
  {
   "cell_type": "code",
   "execution_count": 209,
   "metadata": {},
   "outputs": [
    {
     "data": {
      "text/plain": [
       "array([[ 3.43308191e+02,  1.84293588e+00, -3.32821616e+00,\n",
       "         8.58893613e+00,  2.60652662e+00, -3.32821616e+00,\n",
       "         8.86869215e+01,  4.69668382e+00,  2.23994335e+00,\n",
       "         5.35837947e+00,  8.96162911e+01,  3.44380557e+01,\n",
       "         2.50332573e+00,  8.95692995e-01],\n",
       "       [ 4.69901142e+03, -1.17082143e+01, -3.76537792e+00,\n",
       "         2.85873680e+00,  8.47157090e+00, -3.76537792e+00,\n",
       "         1.89963750e+03,  8.67142857e+01,  5.73214286e+01,\n",
       "         1.27000000e+02,  1.14791536e+03,  4.23714708e+02,\n",
       "         1.96071429e+01,  2.22044605e-16],\n",
       "       [ 9.59972371e+02,  1.76976654e+00, -4.30219041e+00,\n",
       "         6.45194371e+00,  3.91032403e+00, -4.30219041e+00,\n",
       "         2.93364021e+02,  1.43307393e+01,  8.09987030e+00,\n",
       "         1.93942931e+01,  2.31891505e+02,  9.29501309e+01,\n",
       "         4.79247730e+00,  5.31776913e-02]])"
      ]
     },
     "execution_count": 209,
     "metadata": {},
     "output_type": "execute_result"
    }
   ],
   "source": [
    "kmeans.cluster_centers_"
   ]
  },
  {
   "cell_type": "markdown",
   "metadata": {},
   "source": [
    "Kmeans aplicado diretamente com as 2 primeiras colunas do DF (peso molecular e logP)"
   ]
  },
  {
   "cell_type": "code",
   "execution_count": 210,
   "metadata": {},
   "outputs": [
    {
     "data": {
      "text/plain": [
       "<matplotlib.collections.PathCollection at 0x20c8942bd60>"
      ]
     },
     "execution_count": 210,
     "metadata": {},
     "output_type": "execute_result"
    },
    {
     "data": {
      "image/png": "[encoded data removed]",
      "text/plain": [
       "<Figure size 432x288 with 1 Axes>"
      ]
     },
     "metadata": {
      "needs_background": "light"
     },
     "output_type": "display_data"
    }
   ],
   "source": [
    "plt.scatter(df.iloc[:, 0], df.iloc[:, 1], c=y_pred, s=50, cmap='rainbow')\n",
    "centers = kmeans.cluster_centers_\n",
    "plt.scatter(centers[:, 0], centers[:, 1], c='black', s=500, alpha=0.5)"
   ]
  },
  {
   "cell_type": "code",
   "execution_count": 212,
   "metadata": {},
   "outputs": [
    {
     "data": {
      "image/png": "[encoded data removed]",
      "text/plain": [
       "<Figure size 432x288 with 1 Axes>"
      ]
     },
     "metadata": {
      "needs_background": "light"
     },
     "output_type": "display_data"
    }
   ],
   "source": [
    "#filter rows of original data\n",
    "filtered_label2 = df[y_pred == 1]\n",
    " \n",
    "filtered_label8 = df[y_pred == 2]\n",
    " \n",
    "#Plotting the results\n",
    "plt.scatter(filtered_label2.iloc[:,0] , filtered_label2.iloc[:,1] , color = 'red')\n",
    "plt.scatter(filtered_label8.iloc[:,0] , filtered_label8.iloc[:,1] , color = 'black')\n",
    "plt.show()"
   ]
  },
  {
   "cell_type": "markdown",
   "metadata": {},
   "source": [
    "aplicaçao metodo elbow e aplicação do kmeans com o dado tratado no standardscaler com base visto em https://realpython.com/k-means-clustering-python/"
   ]
  },
  {
   "cell_type": "code",
   "execution_count": 200,
   "metadata": {},
   "outputs": [],
   "source": [
    "# from sklearn.cluster import KMeans, DBSCAN\n",
    "# from sklearn import preprocessing\n",
    "# from sklearn.preprocessing import StandardScaler\n",
    "# from sklearn.decomposition import PCA\n"
   ]
  },
  {
   "cell_type": "code",
   "execution_count": 201,
   "metadata": {},
   "outputs": [],
   "source": [
    "# min_max_scaler = preprocessing.MinMaxScaler()\n",
    "# standard_scaler = StandardScaler()\n",
    "\n",
    "# dfscaled = standard_scaler.fit_transform(df)\n",
    "\n",
    "\n",
    "# pca = PCA(n_components=2)\n",
    "\n",
    "# pComp = pca.fit_transform(dfscaled)\n"
   ]
  },
  {
   "cell_type": "code",
   "execution_count": 202,
   "metadata": {},
   "outputs": [],
   "source": [
    "# k = 5\n",
    "# kmeans = KMeans(n_clusters=k)\n",
    "# y_pred = kmeans.fit_predict(pComp)\n"
   ]
  },
  {
   "cell_type": "code",
   "execution_count": 203,
   "metadata": {},
   "outputs": [],
   "source": [
    "# plt.scatter(pComp[:, 0], pComp[:, 1], c=y_pred, s=50, cmap='rainbow')\n",
    "# centers = kmeans.cluster_centers_\n",
    "# plt.scatter(centers[:, 0], centers[:, 1], c='black', s=500, alpha=0.5)"
   ]
  },
  {
   "cell_type": "code",
   "execution_count": 204,
   "metadata": {},
   "outputs": [],
   "source": [
    "# #Importing required modules\n",
    " \n",
    "# from sklearn.datasets import load_digits\n",
    "# from sklearn.decomposition import PCA\n",
    "# from sklearn.cluster import KMeans\n",
    "# import numpy as np\n",
    "# from sklearn.cluster import KMeans\n",
    " \n",
    "# #Initialize the class object\n",
    "# kmeans = KMeans(n_clusters= 4)\n",
    " \n",
    "# #predict the labels of clusters.\n",
    "# label = kmeans.fit_predict(dfscaled)\n",
    " \n",
    "# #Getting unique labels\n",
    "# u_labels = np.unique(label)\n",
    " \n",
    "# #plotting the results:\n",
    "# for i in u_labels:\n",
    "#     plt.scatter(dfscaled[label == i , 0] , dfscaled[label == i , 1] , label = i)\n",
    "# plt.legend()\n",
    "# plt.show()"
   ]
  },
  {
   "cell_type": "markdown",
   "metadata": {},
   "source": [
    "Aplicação do PCA e clusterização"
   ]
  },
  {
   "cell_type": "code",
   "execution_count": 184,
   "metadata": {},
   "outputs": [],
   "source": [
    "from sklearn.decomposition import PCA\n",
    "pca = PCA(n_components = 2)\n",
    "X2D = pca.fit_transform(df)\n"
   ]
  },
  {
   "cell_type": "code",
   "execution_count": 185,
   "metadata": {},
   "outputs": [
    {
     "name": "stdout",
     "output_type": "stream",
     "text": [
      "1 1372268311.2024612\n",
      "2 721306969.8315132\n",
      "3 398554863.7561172\n",
      "4 264744994.06347352\n",
      "5 190071791.23819178\n",
      "6 142356295.0522177\n",
      "7 122383345.01484683\n",
      "8 116044183.13598236\n",
      "9 86397454.66162798\n",
      "10 81372146.28988738\n"
     ]
    },
    {
     "data": {
      "image/png": "[encoded data removed]",
      "text/plain": [
       "<Figure size 432x288 with 1 Axes>"
      ]
     },
     "metadata": {
      "needs_background": "light"
     },
     "output_type": "display_data"
    }
   ],
   "source": [
    "wcss = []\n",
    "\n",
    "for i in range(1,11):\n",
    "    kmeans = KMeans(n_clusters= i , init = 'random')\n",
    "    kmeans.fit(X2D)\n",
    "    print(i, kmeans.inertia_)\n",
    "    wcss.append(kmeans.inertia_)\n",
    "plt.plot(range(1,11), wcss)\n",
    "plt.title('Metodo Elbow')\n",
    "\n",
    "plt.show()"
   ]
  },
  {
   "cell_type": "code",
   "execution_count": 186,
   "metadata": {},
   "outputs": [
    {
     "data": {
      "text/plain": [
       "array([0.96819908, 0.02671705])"
      ]
     },
     "execution_count": 186,
     "metadata": {},
     "output_type": "execute_result"
    }
   ],
   "source": [
    "pca.explained_variance_ratio_\n"
   ]
  },
  {
   "cell_type": "code",
   "execution_count": 191,
   "metadata": {},
   "outputs": [
    {
     "data": {
      "text/plain": [
       "array([[-4.54449365e+01,  4.31416740e-01],\n",
       "       [ 6.22283340e+02, -1.57515322e+01],\n",
       "       [ 4.80190381e+03,  2.25478667e+02]])"
      ]
     },
     "execution_count": 191,
     "metadata": {},
     "output_type": "execute_result"
    }
   ],
   "source": [
    "k = 3\n",
    "kmeans = KMeans(n_clusters=k)\n",
    "y_pred2 = kmeans.fit_predict(X2D)\n",
    "kmeans.cluster_centers_"
   ]
  },
  {
   "cell_type": "code",
   "execution_count": 192,
   "metadata": {},
   "outputs": [
    {
     "data": {
      "text/plain": [
       "<matplotlib.collections.PathCollection at 0x20c84422670>"
      ]
     },
     "execution_count": 192,
     "metadata": {},
     "output_type": "execute_result"
    },
    {
     "data": {
      "image/png": "[encoded data removed]",
      "text/plain": [
       "<Figure size 432x288 with 1 Axes>"
      ]
     },
     "metadata": {
      "needs_background": "light"
     },
     "output_type": "display_data"
    }
   ],
   "source": [
    "plt.scatter(X2D[:, 0], X2D[:, 1], c=y_pred2, s=50, cmap='rainbow')\n",
    "centers = kmeans.cluster_centers_\n",
    "plt.scatter(centers[:, 0], centers[:, 1], c='black', s=500, alpha=0.5)"
   ]
  },
  {
   "cell_type": "code",
   "execution_count": 193,
   "metadata": {},
   "outputs": [],
   "source": [
    "dfcluster = pd.DataFrame(y_pred2)\n",
    "\n",
    "drugbank_df[\"cluster\"] = dfcluster\n",
    "\n",
    "df[\"cluster\"] = dfcluster"
   ]
  },
  {
   "cell_type": "code",
   "execution_count": 194,
   "metadata": {},
   "outputs": [
    {
     "data": {
      "text/html": [
       "<div>\n",
       "<style scoped>\n",
       "    .dataframe tbody tr th:only-of-type {\n",
       "        vertical-align: middle;\n",
       "    }\n",
       "\n",
       "    .dataframe tbody tr th {\n",
       "        vertical-align: top;\n",
       "    }\n",
       "\n",
       "    .dataframe thead th {\n",
       "        text-align: right;\n",
       "    }\n",
       "</style>\n",
       "<table border=\"1\" class=\"dataframe\">\n",
       "  <thead>\n",
       "    <tr style=\"text-align: right;\">\n",
       "      <th></th>\n",
       "      <th>drugbank_id</th>\n",
       "      <th>name</th>\n",
       "      <th>type</th>\n",
       "      <th>groups</th>\n",
       "      <th>categories</th>\n",
       "      <th>molecular_weight</th>\n",
       "      <th>state</th>\n",
       "      <th>water_solubility</th>\n",
       "      <th>melt_point</th>\n",
       "      <th>boil_point</th>\n",
       "      <th>...</th>\n",
       "      <th>physiological_charge</th>\n",
       "      <th>polar_surface_area</th>\n",
       "      <th>hydrogen_acceptor_count</th>\n",
       "      <th>hydrogen_donor_count</th>\n",
       "      <th>rotable_bond_count</th>\n",
       "      <th>refractivity</th>\n",
       "      <th>polarizability</th>\n",
       "      <th>number_of_rings</th>\n",
       "      <th>bioavailability</th>\n",
       "      <th>cluster</th>\n",
       "    </tr>\n",
       "  </thead>\n",
       "  <tbody>\n",
       "    <tr>\n",
       "      <th>0</th>\n",
       "      <td>DB00001</td>\n",
       "      <td>Lepirudin</td>\n",
       "      <td>biotech</td>\n",
       "      <td>[approved]</td>\n",
       "      <td>[Amino Acids, Peptides, and Proteins, Anticoag...</td>\n",
       "      <td>None</td>\n",
       "      <td>liquid</td>\n",
       "      <td>None</td>\n",
       "      <td>65 °C</td>\n",
       "      <td>None</td>\n",
       "      <td>...</td>\n",
       "      <td>None</td>\n",
       "      <td>None</td>\n",
       "      <td>None</td>\n",
       "      <td>None</td>\n",
       "      <td>None</td>\n",
       "      <td>None</td>\n",
       "      <td>None</td>\n",
       "      <td>None</td>\n",
       "      <td>None</td>\n",
       "      <td>0</td>\n",
       "    </tr>\n",
       "    <tr>\n",
       "      <th>1</th>\n",
       "      <td>DB00002</td>\n",
       "      <td>Cetuximab</td>\n",
       "      <td>biotech</td>\n",
       "      <td>[approved]</td>\n",
       "      <td>[Amino Acids, Peptides, and Proteins, Antibodi...</td>\n",
       "      <td>None</td>\n",
       "      <td>liquid</td>\n",
       "      <td>None</td>\n",
       "      <td>61 °C (FAB fragment), 71 °C (whole mAb)</td>\n",
       "      <td>None</td>\n",
       "      <td>...</td>\n",
       "      <td>None</td>\n",
       "      <td>None</td>\n",
       "      <td>None</td>\n",
       "      <td>None</td>\n",
       "      <td>None</td>\n",
       "      <td>None</td>\n",
       "      <td>None</td>\n",
       "      <td>None</td>\n",
       "      <td>None</td>\n",
       "      <td>0</td>\n",
       "    </tr>\n",
       "    <tr>\n",
       "      <th>2</th>\n",
       "      <td>DB00003</td>\n",
       "      <td>Dornase alfa</td>\n",
       "      <td>biotech</td>\n",
       "      <td>[approved]</td>\n",
       "      <td>[Amino Acids, Peptides, and Proteins, Cough an...</td>\n",
       "      <td>None</td>\n",
       "      <td>liquid</td>\n",
       "      <td>None</td>\n",
       "      <td>67 °C</td>\n",
       "      <td>None</td>\n",
       "      <td>...</td>\n",
       "      <td>None</td>\n",
       "      <td>None</td>\n",
       "      <td>None</td>\n",
       "      <td>None</td>\n",
       "      <td>None</td>\n",
       "      <td>None</td>\n",
       "      <td>None</td>\n",
       "      <td>None</td>\n",
       "      <td>None</td>\n",
       "      <td>0</td>\n",
       "    </tr>\n",
       "    <tr>\n",
       "      <th>3</th>\n",
       "      <td>DB00004</td>\n",
       "      <td>Denileukin diftitox</td>\n",
       "      <td>biotech</td>\n",
       "      <td>[approved, investigational]</td>\n",
       "      <td>[ADP Ribose Transferases, Amino Acids, Peptide...</td>\n",
       "      <td>None</td>\n",
       "      <td>liquid</td>\n",
       "      <td>None</td>\n",
       "      <td>None</td>\n",
       "      <td>None</td>\n",
       "      <td>...</td>\n",
       "      <td>None</td>\n",
       "      <td>None</td>\n",
       "      <td>None</td>\n",
       "      <td>None</td>\n",
       "      <td>None</td>\n",
       "      <td>None</td>\n",
       "      <td>None</td>\n",
       "      <td>None</td>\n",
       "      <td>None</td>\n",
       "      <td>0</td>\n",
       "    </tr>\n",
       "    <tr>\n",
       "      <th>4</th>\n",
       "      <td>DB00005</td>\n",
       "      <td>Etanercept</td>\n",
       "      <td>biotech</td>\n",
       "      <td>[approved, investigational]</td>\n",
       "      <td>[Agents reducing cytokine levels, Amino Acids,...</td>\n",
       "      <td>None</td>\n",
       "      <td>liquid</td>\n",
       "      <td>None</td>\n",
       "      <td>71 °C (whole mAb)</td>\n",
       "      <td>None</td>\n",
       "      <td>...</td>\n",
       "      <td>None</td>\n",
       "      <td>None</td>\n",
       "      <td>None</td>\n",
       "      <td>None</td>\n",
       "      <td>None</td>\n",
       "      <td>None</td>\n",
       "      <td>None</td>\n",
       "      <td>None</td>\n",
       "      <td>None</td>\n",
       "      <td>0</td>\n",
       "    </tr>\n",
       "    <tr>\n",
       "      <th>...</th>\n",
       "      <td>...</td>\n",
       "      <td>...</td>\n",
       "      <td>...</td>\n",
       "      <td>...</td>\n",
       "      <td>...</td>\n",
       "      <td>...</td>\n",
       "      <td>...</td>\n",
       "      <td>...</td>\n",
       "      <td>...</td>\n",
       "      <td>...</td>\n",
       "      <td>...</td>\n",
       "      <td>...</td>\n",
       "      <td>...</td>\n",
       "      <td>...</td>\n",
       "      <td>...</td>\n",
       "      <td>...</td>\n",
       "      <td>...</td>\n",
       "      <td>...</td>\n",
       "      <td>...</td>\n",
       "      <td>...</td>\n",
       "      <td>...</td>\n",
       "    </tr>\n",
       "    <tr>\n",
       "      <th>14310</th>\n",
       "      <td>DB16420</td>\n",
       "      <td>Vibostolimab</td>\n",
       "      <td>biotech</td>\n",
       "      <td>[investigational]</td>\n",
       "      <td>[]</td>\n",
       "      <td>None</td>\n",
       "      <td>None</td>\n",
       "      <td>None</td>\n",
       "      <td>None</td>\n",
       "      <td>None</td>\n",
       "      <td>...</td>\n",
       "      <td>None</td>\n",
       "      <td>None</td>\n",
       "      <td>None</td>\n",
       "      <td>None</td>\n",
       "      <td>None</td>\n",
       "      <td>None</td>\n",
       "      <td>None</td>\n",
       "      <td>None</td>\n",
       "      <td>None</td>\n",
       "      <td>0</td>\n",
       "    </tr>\n",
       "    <tr>\n",
       "      <th>14311</th>\n",
       "      <td>DB16421</td>\n",
       "      <td>Volagidemab</td>\n",
       "      <td>biotech</td>\n",
       "      <td>[investigational]</td>\n",
       "      <td>[Amino Acids, Peptides, and Proteins, Antibodi...</td>\n",
       "      <td>None</td>\n",
       "      <td>None</td>\n",
       "      <td>None</td>\n",
       "      <td>None</td>\n",
       "      <td>None</td>\n",
       "      <td>...</td>\n",
       "      <td>None</td>\n",
       "      <td>None</td>\n",
       "      <td>None</td>\n",
       "      <td>None</td>\n",
       "      <td>None</td>\n",
       "      <td>None</td>\n",
       "      <td>None</td>\n",
       "      <td>None</td>\n",
       "      <td>None</td>\n",
       "      <td>0</td>\n",
       "    </tr>\n",
       "    <tr>\n",
       "      <th>14312</th>\n",
       "      <td>DB16422</td>\n",
       "      <td>Quavonlimab</td>\n",
       "      <td>biotech</td>\n",
       "      <td>[investigational]</td>\n",
       "      <td>[]</td>\n",
       "      <td>None</td>\n",
       "      <td>None</td>\n",
       "      <td>None</td>\n",
       "      <td>None</td>\n",
       "      <td>None</td>\n",
       "      <td>...</td>\n",
       "      <td>None</td>\n",
       "      <td>None</td>\n",
       "      <td>None</td>\n",
       "      <td>None</td>\n",
       "      <td>None</td>\n",
       "      <td>None</td>\n",
       "      <td>None</td>\n",
       "      <td>None</td>\n",
       "      <td>None</td>\n",
       "      <td>0</td>\n",
       "    </tr>\n",
       "    <tr>\n",
       "      <th>14313</th>\n",
       "      <td>DB16423</td>\n",
       "      <td>AK119</td>\n",
       "      <td>biotech</td>\n",
       "      <td>[investigational]</td>\n",
       "      <td>[]</td>\n",
       "      <td>None</td>\n",
       "      <td>None</td>\n",
       "      <td>None</td>\n",
       "      <td>None</td>\n",
       "      <td>None</td>\n",
       "      <td>...</td>\n",
       "      <td>None</td>\n",
       "      <td>None</td>\n",
       "      <td>None</td>\n",
       "      <td>None</td>\n",
       "      <td>None</td>\n",
       "      <td>None</td>\n",
       "      <td>None</td>\n",
       "      <td>None</td>\n",
       "      <td>None</td>\n",
       "      <td>0</td>\n",
       "    </tr>\n",
       "    <tr>\n",
       "      <th>14314</th>\n",
       "      <td>DB16424</td>\n",
       "      <td>Allocetra</td>\n",
       "      <td>biotech</td>\n",
       "      <td>[investigational]</td>\n",
       "      <td>[]</td>\n",
       "      <td>None</td>\n",
       "      <td>None</td>\n",
       "      <td>None</td>\n",
       "      <td>None</td>\n",
       "      <td>None</td>\n",
       "      <td>...</td>\n",
       "      <td>None</td>\n",
       "      <td>None</td>\n",
       "      <td>None</td>\n",
       "      <td>None</td>\n",
       "      <td>None</td>\n",
       "      <td>None</td>\n",
       "      <td>None</td>\n",
       "      <td>None</td>\n",
       "      <td>None</td>\n",
       "      <td>0</td>\n",
       "    </tr>\n",
       "  </tbody>\n",
       "</table>\n",
       "<p>14315 rows × 24 columns</p>\n",
       "</div>"
      ],
      "text/plain": [
       "      drugbank_id                 name     type                       groups  \\\n",
       "0         DB00001            Lepirudin  biotech                   [approved]   \n",
       "1         DB00002            Cetuximab  biotech                   [approved]   \n",
       "2         DB00003         Dornase alfa  biotech                   [approved]   \n",
       "3         DB00004  Denileukin diftitox  biotech  [approved, investigational]   \n",
       "4         DB00005           Etanercept  biotech  [approved, investigational]   \n",
       "...           ...                  ...      ...                          ...   \n",
       "14310     DB16420         Vibostolimab  biotech            [investigational]   \n",
       "14311     DB16421          Volagidemab  biotech            [investigational]   \n",
       "14312     DB16422          Quavonlimab  biotech            [investigational]   \n",
       "14313     DB16423                AK119  biotech            [investigational]   \n",
       "14314     DB16424            Allocetra  biotech            [investigational]   \n",
       "\n",
       "                                              categories molecular_weight  \\\n",
       "0      [Amino Acids, Peptides, and Proteins, Anticoag...             None   \n",
       "1      [Amino Acids, Peptides, and Proteins, Antibodi...             None   \n",
       "2      [Amino Acids, Peptides, and Proteins, Cough an...             None   \n",
       "3      [ADP Ribose Transferases, Amino Acids, Peptide...             None   \n",
       "4      [Agents reducing cytokine levels, Amino Acids,...             None   \n",
       "...                                                  ...              ...   \n",
       "14310                                                 []             None   \n",
       "14311  [Amino Acids, Peptides, and Proteins, Antibodi...             None   \n",
       "14312                                                 []             None   \n",
       "14313                                                 []             None   \n",
       "14314                                                 []             None   \n",
       "\n",
       "        state water_solubility                               melt_point  \\\n",
       "0      liquid             None                                    65 °C   \n",
       "1      liquid             None  61 °C (FAB fragment), 71 °C (whole mAb)   \n",
       "2      liquid             None                                    67 °C   \n",
       "3      liquid             None                                     None   \n",
       "4      liquid             None                        71 °C (whole mAb)   \n",
       "...       ...              ...                                      ...   \n",
       "14310    None             None                                     None   \n",
       "14311    None             None                                     None   \n",
       "14312    None             None                                     None   \n",
       "14313    None             None                                     None   \n",
       "14314    None             None                                     None   \n",
       "\n",
       "      boil_point  ... physiological_charge polar_surface_area  \\\n",
       "0           None  ...                 None               None   \n",
       "1           None  ...                 None               None   \n",
       "2           None  ...                 None               None   \n",
       "3           None  ...                 None               None   \n",
       "4           None  ...                 None               None   \n",
       "...          ...  ...                  ...                ...   \n",
       "14310       None  ...                 None               None   \n",
       "14311       None  ...                 None               None   \n",
       "14312       None  ...                 None               None   \n",
       "14313       None  ...                 None               None   \n",
       "14314       None  ...                 None               None   \n",
       "\n",
       "      hydrogen_acceptor_count hydrogen_donor_count rotable_bond_count  \\\n",
       "0                        None                 None               None   \n",
       "1                        None                 None               None   \n",
       "2                        None                 None               None   \n",
       "3                        None                 None               None   \n",
       "4                        None                 None               None   \n",
       "...                       ...                  ...                ...   \n",
       "14310                    None                 None               None   \n",
       "14311                    None                 None               None   \n",
       "14312                    None                 None               None   \n",
       "14313                    None                 None               None   \n",
       "14314                    None                 None               None   \n",
       "\n",
       "      refractivity polarizability number_of_rings bioavailability cluster  \n",
       "0             None           None            None            None       0  \n",
       "1             None           None            None            None       0  \n",
       "2             None           None            None            None       0  \n",
       "3             None           None            None            None       0  \n",
       "4             None           None            None            None       0  \n",
       "...            ...            ...             ...             ...     ...  \n",
       "14310         None           None            None            None       0  \n",
       "14311         None           None            None            None       0  \n",
       "14312         None           None            None            None       0  \n",
       "14313         None           None            None            None       0  \n",
       "14314         None           None            None            None       0  \n",
       "\n",
       "[14315 rows x 24 columns]"
      ]
     },
     "execution_count": 194,
     "metadata": {},
     "output_type": "execute_result"
    }
   ],
   "source": [
    "drugbank_df"
   ]
  },
  {
   "cell_type": "code",
   "execution_count": 195,
   "metadata": {},
   "outputs": [
    {
     "data": {
      "text/plain": [
       "small molecule    11035\n",
       "biotech            2481\n",
       "Name: type, dtype: int64"
      ]
     },
     "execution_count": 195,
     "metadata": {},
     "output_type": "execute_result"
    }
   ],
   "source": [
    "drugbank_df[drugbank_df.cluster == 0].type.value_counts()"
   ]
  },
  {
   "cell_type": "code",
   "execution_count": 196,
   "metadata": {},
   "outputs": [
    {
     "data": {
      "text/plain": [
       "small molecule    771\n",
       "Name: type, dtype: int64"
      ]
     },
     "execution_count": 196,
     "metadata": {},
     "output_type": "execute_result"
    }
   ],
   "source": [
    "drugbank_df[drugbank_df.cluster == 1].type.value_counts()"
   ]
  },
  {
   "cell_type": "code",
   "execution_count": 197,
   "metadata": {},
   "outputs": [
    {
     "data": {
      "text/plain": [
       "small molecule    28\n",
       "Name: type, dtype: int64"
      ]
     },
     "execution_count": 197,
     "metadata": {},
     "output_type": "execute_result"
    }
   ],
   "source": [
    "drugbank_df[drugbank_df.cluster == 2].type.value_counts()"
   ]
  },
  {
   "cell_type": "code",
   "execution_count": 198,
   "metadata": {},
   "outputs": [],
   "source": [
    "##drugbank_df[drugbank_df.cluster == 2]"
   ]
  },
  {
   "cell_type": "code",
   "execution_count": 199,
   "metadata": {},
   "outputs": [],
   "source": [
    "##drugbank_df[drugbank_df[\"name\"].str.contains(\"cov\",flags = re.IGNORECASE)]"
   ]
  },
  {
   "cell_type": "code",
   "execution_count": null,
   "metadata": {},
   "outputs": [],
   "source": []
  }
 ],
 "metadata": {
  "interpreter": {
   "hash": "c90f76360b09ad76695ee9e6450b9f1aa36c1ed15694be13cbea30fdfcf8c98b"
  },
  "kernelspec": {
   "display_name": "Python 3.8.12 ('Python3.8')",
   "language": "python",
   "name": "python3"
  },
  "language_info": {
   "codemirror_mode": {
    "name": "ipython",
    "version": 3
   },
   "file_extension": ".py",
   "mimetype": "text/x-python",
   "name": "python",
   "nbconvert_exporter": "python",
   "pygments_lexer": "ipython3",
   "version": "3.8.12"
  },
  "orig_nbformat": 4
 },
 "nbformat": 4,
 "nbformat_minor": 2
}
