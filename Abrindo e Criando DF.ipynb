{
 "cells": [
  {
   "cell_type": "markdown",
   "id": "486b279b",
   "metadata": {},
   "source": [
    "# Realizando Imports"
   ]
  },
  {
   "cell_type": "code",
   "execution_count": 1,
   "id": "7e768f07",
   "metadata": {},
   "outputs": [],
   "source": [
    "import os\n",
    "import csv\n",
    "import gzip\n",
    "import collections\n",
    "import re\n",
    "import io\n",
    "import json\n",
    "import xml.etree.ElementTree as ET\n",
    "import pandas as pd\n",
    "import numpy as np\n",
    "import matplotlib.pyplot as plt\n",
    "from matplotlib.lines import Line2D\n",
    "#from pandas_profiling import ProfileReport\n",
    "\n",
    "pd.set_option('display.max_columns', None)"
   ]
  },
  {
   "cell_type": "markdown",
   "id": "488752dd",
   "metadata": {},
   "source": [
    "# Abrindo o XML (DataBase)"
   ]
  },
  {
   "cell_type": "code",
   "execution_count": 2,
   "id": "4e4c473c",
   "metadata": {},
   "outputs": [],
   "source": [
    "xml_path = (r\"/home/gabriel/Documents/Gabriel/lcdia/drugbankdb/full_db.xml\")\n",
    "with open(xml_path,encoding=\"utf8\") as xml_file:\n",
    "    tree = ET.parse(xml_file)\n",
    "root = tree.getroot()"
   ]
  },
  {
   "cell_type": "markdown",
   "id": "3db52db9",
   "metadata": {},
   "source": [
    "# Selecionando o tipo de dado para aquilo que queremos trabalhar"
   ]
  },
  {
   "cell_type": "code",
   "execution_count": 3,
   "id": "eedcb962",
   "metadata": {},
   "outputs": [],
   "source": [
    "ns = '{http://www.drugbank.ca}'\n",
    "mw_template = \"{ns}calculated-properties/{ns}property[{ns}kind='Molecular Weight']/{ns}value\"\n",
    "ws_template = \"{ns}calculated-properties/{ns}property[{ns}kind='Water Solubility']/{ns}value\"\n",
    "mp_template = \"{ns}experimental-properties/{ns}property[{ns}kind='Melting Point']/{ns}value\"\n",
    "bp_template = \"{ns}experimental-properties/{ns}property[{ns}kind='Boiling Point']/{ns}value\"\n",
    "lp_template = \"{ns}calculated-properties/{ns}property[{ns}kind='logP']/{ns}value\"\n",
    "ls_template = \"{ns}calculated-properties/{ns}property[{ns}kind='logS']/{ns}value\"\n",
    "psa_template = \"{ns}calculated-properties/{ns}property[{ns}kind='Polar Surface Area (PSA)']/{ns}value\"\n",
    "hac_template = \"{ns}calculated-properties/{ns}property[{ns}kind='H Bond Acceptor Count']/{ns}value\"\n",
    "hdc_template = \"{ns}calculated-properties/{ns}property[{ns}kind='H Bond Donor Count']/{ns}value\"\n",
    "rbc_template = \"{ns}calculated-properties/{ns}property[{ns}kind='Rotatable Bond Count']/{ns}value\"\n",
    "ref_template = \"{ns}calculated-properties/{ns}property[{ns}kind='Refractivity']/{ns}value\"\n",
    "pol_template = \"{ns}calculated-properties/{ns}property[{ns}kind='Polarizability']/{ns}value\"\n",
    "pkaa_template = \"{ns}calculated-properties/{ns}property[{ns}kind='pKa (strongest acidic)']/{ns}value\"\n",
    "pkab_template = \"{ns}calculated-properties/{ns}property[{ns}kind='pKa (strongest basic)']/{ns}value\"\n",
    "pc_template = \"{ns}calculated-properties/{ns}property[{ns}kind='Physiological Charge']/{ns}value\"\n",
    "nor_template = \"{ns}calculated-properties/{ns}property[{ns}kind='Number of Rings']/{ns}value\"\n",
    "bio_template = \"{ns}calculated-properties/{ns}property[{ns}kind='Bioavailability']/{ns}value\"\n",
    "\n",
    "\n",
    "\n",
    "rows = []\n",
    "for i, drug in enumerate(root):\n",
    "    row = {}\n",
    "    assert drug.tag == ns + 'drug'\n",
    "    row['type'] = drug.get('type')\n",
    "    row['drugbank_id'] = drug.findtext(ns + \"drugbank-id[@primary='true']\")\n",
    "    row['name'] = drug.findtext(ns + \"name\")\n",
    "    row['groups'] = [group.text for group in\n",
    "        drug.findall(\"{ns}groups/{ns}group\".format(ns = ns))]\n",
    "    row['categories'] = [x.findtext(ns + 'category') for x in\n",
    "        drug.findall(\"{ns}categories/{ns}category\".format(ns = ns))]\n",
    "    row['molecular_weight'] = drug.findtext(mw_template.format(ns = ns))\n",
    "    row['state'] = drug.findtext(ns + \"state\")\n",
    "    row['water_solubility'] = drug.findtext(ws_template.format(ns = ns))\n",
    "    row['melt_point'] = drug.findtext(mp_template.format(ns = ns))\n",
    "    row['boil_point'] = drug.findtext(bp_template.format(ns = ns))\n",
    "    row['logP'] = drug.findtext(lp_template.format(ns = ns))\n",
    "    row['logS'] = drug.findtext(ls_template.format(ns = ns))\n",
    "    row['pKa_Acid'] = drug.findtext(pkaa_template.format(ns = ns))\n",
    "    row['pKa_Basic'] = drug.findtext(pkab_template.format(ns = ns))\n",
    "    row['physiological_charge'] = drug.findtext(ls_template.format(ns = ns))\n",
    "    row['polar_surface_area'] = drug.findtext(psa_template.format(ns = ns))\n",
    "    row['hydrogen_acceptor_count'] = drug.findtext(hac_template.format(ns = ns))\n",
    "    row['hydrogen_donor_count'] = drug.findtext(hdc_template.format(ns = ns))\n",
    "    row['rotable_bond_count'] = drug.findtext(rbc_template.format(ns = ns))\n",
    "    row['refractivity'] = drug.findtext(ref_template.format(ns = ns))\n",
    "    row['polarizability'] = drug.findtext(pol_template.format(ns = ns))\n",
    "    row['number_of_rings'] = drug.findtext(nor_template.format(ns = ns))\n",
    "    row['bioavailability'] = drug.findtext(bio_template.format(ns = ns))\n",
    "\n",
    "\n",
    "    \n",
    "    rows.append(row)"
   ]
  },
  {
   "cell_type": "markdown",
   "id": "72bda23a",
   "metadata": {},
   "source": [
    "# Criando o DataFrame"
   ]
  },
  {
   "cell_type": "code",
   "execution_count": 4,
   "id": "5387e24e",
   "metadata": {},
   "outputs": [],
   "source": [
    "columns = ['drugbank_id', 'name', 'type', 'groups', 'categories', 'molecular_weight', \n",
    "           'state','water_solubility', 'melt_point','boil_point','logP','logS','pKa_Acid','pKa_Basic','physiological_charge',\n",
    "           'polar_surface_area','hydrogen_acceptor_count', 'hydrogen_donor_count', 'rotable_bond_count', \n",
    "           'refractivity', 'polarizability','number_of_rings','bioavailability']\n",
    "#drugbank_df = pd.DataFrame.from_dict(rows)[columns]\n",
    "drugbank_df = pd.DataFrame(rows,columns = columns)\n",
    "\n",
    "\n",
    "\n",
    "drugbank_df\n",
    "drugbank_df.fillna(value=np.nan)\n",
    "drugbank_df.to_pickle('db_df')"
   ]
  }
 ],
 "metadata": {
  "kernelspec": {
   "display_name": "Python 3",
   "language": "python",
   "name": "python3"
  },
  "language_info": {
   "codemirror_mode": {
    "name": "ipython",
    "version": 3
   },
   "file_extension": ".py",
   "mimetype": "text/x-python",
   "name": "python",
   "nbconvert_exporter": "python",
   "pygments_lexer": "ipython3",
   "version": "3.8.10"
  }
 },
 "nbformat": 4,
 "nbformat_minor": 5
}
