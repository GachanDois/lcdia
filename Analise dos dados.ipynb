{
 "cells": [
  {
   "cell_type": "markdown",
   "metadata": {},
   "source": [
    "# Imports"
   ]
  },
  {
   "cell_type": "code",
   "execution_count": 2,
   "metadata": {},
   "outputs": [],
   "source": [
    "import pandas as pd\n",
    "import numpy as np\n",
    "import matplotlib.pyplot as plt\n",
    "from matplotlib.lines import Line2D\n",
    "import math\n"
   ]
  },
  {
   "cell_type": "markdown",
   "metadata": {},
   "source": [
    "# Utilizando o DataFrame criado anteriormente"
   ]
  },
  {
   "cell_type": "code",
   "execution_count": 3,
   "metadata": {},
   "outputs": [],
   "source": [
    "drugbank_df = pd.read_pickle('db_df')"
   ]
  },
  {
   "cell_type": "markdown",
   "metadata": {},
   "source": [
    "# Transformando as colunas de dados númericos do DataFrame em float"
   ]
  },
  {
   "cell_type": "code",
   "execution_count": 4,
   "metadata": {},
   "outputs": [],
   "source": [
    "cols = ['molecular_weight','logP','logS','pKa_Acid','pKa_Basic','physiological_charge',\n",
    "'polar_surface_area','hydrogen_acceptor_count','hydrogen_donor_count','rotable_bond_count',\n",
    "'refractivity','polarizability','number_of_rings','bioavailability']\n",
    "\n",
    "for col in cols:\n",
    "    drugbank_df[col] = drugbank_df[col].astype(np.float64)"
   ]
  },
  {
   "cell_type": "code",
   "execution_count": 5,
   "metadata": {},
   "outputs": [
    {
     "data": {
      "text/plain": [
       "0.10500    20\n",
       "0.01110    19\n",
       "0.01120    17\n",
       "0.01220    16\n",
       "0.10400    15\n",
       "           ..\n",
       "0.00950     1\n",
       "0.00003     1\n",
       "0.00725     1\n",
       "0.00776     1\n",
       "0.03640     1\n",
       "Name: water_solubility, Length: 4219, dtype: int64"
      ]
     },
     "execution_count": 5,
     "metadata": {},
     "output_type": "execute_result"
    }
   ],
   "source": [
    "def transforma_col(linha):\n",
    "    if linha:\n",
    "        return linha[:-4]\n",
    "    else:\n",
    "        return linha\n",
    "\n",
    "drugbank_df['water_solubility'].apply(transforma_col).astype(np.float64).value_counts()"
   ]
  },
  {
   "cell_type": "markdown",
   "metadata": {},
   "source": [
    "# 1 Fazendo histogramas dos dados\n",
    "1.1 Molecular weight"
   ]
  },
  {
   "cell_type": "markdown",
   "metadata": {},
   "source": [
    "É estacionário"
   ]
  },
  {
   "cell_type": "code",
   "execution_count": 6,
   "metadata": {},
   "outputs": [
    {
     "data": {
      "text/plain": [
       "<AxesSubplot:>"
      ]
     },
     "execution_count": 6,
     "metadata": {},
     "output_type": "execute_result"
    },
    {
     "data": {
      "image/png": "[encoded data removed]",
      "text/plain": [
       "<Figure size 432x288 with 1 Axes>"
      ]
     },
     "metadata": {
      "needs_background": "light"
     },
     "output_type": "display_data"
    }
   ],
   "source": [
    "dfmw = drugbank_df['molecular_weight']\n",
    "\n",
    "c0 = dfmw.isna() == False\n",
    "c1 = dfmw > 0\n",
    "dfmw = dfmw[c0 & c1] \n",
    "\n",
    "mwlog = dfmw.apply(np.log10)\n",
    "mwlog.hist(bins = 700)"
   ]
  },
  {
   "cell_type": "markdown",
   "metadata": {},
   "source": [
    "1.2 LogP"
   ]
  },
  {
   "cell_type": "markdown",
   "metadata": {},
   "source": [
    "É estacionário"
   ]
  },
  {
   "cell_type": "code",
   "execution_count": 7,
   "metadata": {},
   "outputs": [
    {
     "data": {
      "text/plain": [
       "<AxesSubplot:>"
      ]
     },
     "execution_count": 7,
     "metadata": {},
     "output_type": "execute_result"
    },
    {
     "data": {
      "image/png": "[encoded data removed]",
      "text/plain": [
       "<Figure size 432x288 with 1 Axes>"
      ]
     },
     "metadata": {
      "needs_background": "light"
     },
     "output_type": "display_data"
    }
   ],
   "source": [
    "dflogp = drugbank_df['logP']\n",
    "\n",
    "c0 = dflogp.isna() == False\n",
    "dflogp = dflogp[c0] \n",
    "\n",
    "dflogp.hist(bins = 700)\n"
   ]
  },
  {
   "cell_type": "markdown",
   "metadata": {},
   "source": [
    "1.3 LogS"
   ]
  },
  {
   "cell_type": "markdown",
   "metadata": {},
   "source": [
    "É estacionário"
   ]
  },
  {
   "cell_type": "code",
   "execution_count": 8,
   "metadata": {},
   "outputs": [
    {
     "data": {
      "text/plain": [
       "<AxesSubplot:>"
      ]
     },
     "execution_count": 8,
     "metadata": {},
     "output_type": "execute_result"
    },
    {
     "data": {
      "image/png": "[encoded data removed]",
      "text/plain": [
       "<Figure size 432x288 with 1 Axes>"
      ]
     },
     "metadata": {
      "needs_background": "light"
     },
     "output_type": "display_data"
    }
   ],
   "source": [
    "dflogs = drugbank_df['logS']\n",
    "\n",
    "c0 = dflogs.isna() == False\n",
    "dflogs = dflogs[c0] \n",
    "\n",
    "dflogs.hist(bins = 35)\n"
   ]
  },
  {
   "cell_type": "markdown",
   "metadata": {},
   "source": [
    "1.4 pka acid"
   ]
  },
  {
   "cell_type": "markdown",
   "metadata": {},
   "source": [
    "É estacionario"
   ]
  },
  {
   "cell_type": "code",
   "execution_count": 9,
   "metadata": {},
   "outputs": [
    {
     "data": {
      "text/plain": [
       "<AxesSubplot:>"
      ]
     },
     "execution_count": 9,
     "metadata": {},
     "output_type": "execute_result"
    },
    {
     "data": {
      "image/png": "[encoded data removed]",
      "text/plain": [
       "<Figure size 432x288 with 1 Axes>"
      ]
     },
     "metadata": {
      "needs_background": "light"
     },
     "output_type": "display_data"
    }
   ],
   "source": [
    "dfpka = drugbank_df['pKa_Acid']\n",
    "\n",
    "c0 = dfpka.isna() == False\n",
    "dfpka = dfpka[c0] \n",
    "\n",
    "dfpka.hist(bins = 200)\n"
   ]
  },
  {
   "cell_type": "markdown",
   "metadata": {},
   "source": [
    "1.5 pka basic"
   ]
  },
  {
   "cell_type": "markdown",
   "metadata": {},
   "source": [
    "É estacionario"
   ]
  },
  {
   "cell_type": "code",
   "execution_count": 10,
   "metadata": {},
   "outputs": [
    {
     "data": {
      "text/plain": [
       "<AxesSubplot:>"
      ]
     },
     "execution_count": 10,
     "metadata": {},
     "output_type": "execute_result"
    },
    {
     "data": {
      "image/png": "[encoded data removed]",
      "text/plain": [
       "<Figure size 432x288 with 1 Axes>"
      ]
     },
     "metadata": {
      "needs_background": "light"
     },
     "output_type": "display_data"
    }
   ],
   "source": [
    "dfpkb = drugbank_df['pKa_Basic']\n",
    "\n",
    "c0 = dfpkb.isna() == False\n",
    "dfpkb = dfpkb[c0] \n",
    "\n",
    "dfpkb.hist(bins = 200)\n"
   ]
  },
  {
   "cell_type": "markdown",
   "metadata": {},
   "source": [
    "1.6 Physiological Charge"
   ]
  },
  {
   "cell_type": "markdown",
   "metadata": {},
   "source": [
    "É estacionario"
   ]
  },
  {
   "cell_type": "code",
   "execution_count": 11,
   "metadata": {},
   "outputs": [
    {
     "data": {
      "text/plain": [
       "<AxesSubplot:>"
      ]
     },
     "execution_count": 11,
     "metadata": {},
     "output_type": "execute_result"
    },
    {
     "data": {
      "image/png": "[encoded data removed]",
      "text/plain": [
       "<Figure size 432x288 with 1 Axes>"
      ]
     },
     "metadata": {
      "needs_background": "light"
     },
     "output_type": "display_data"
    }
   ],
   "source": [
    "dfphy = drugbank_df['physiological_charge']\n",
    "\n",
    "c0 = dfphy.isna() == False\n",
    "dfphy = dfphy[c0] \n",
    "\n",
    "dfphy.hist(bins = 105)"
   ]
  },
  {
   "cell_type": "markdown",
   "metadata": {},
   "source": [
    "1.7 Polar Surface Area"
   ]
  },
  {
   "cell_type": "markdown",
   "metadata": {},
   "source": [
    "É estacionario"
   ]
  },
  {
   "cell_type": "code",
   "execution_count": 12,
   "metadata": {},
   "outputs": [
    {
     "data": {
      "text/plain": [
       "<AxesSubplot:>"
      ]
     },
     "execution_count": 12,
     "metadata": {},
     "output_type": "execute_result"
    },
    {
     "data": {
      "image/png": "[encoded data removed]",
      "text/plain": [
       "<Figure size 432x288 with 1 Axes>"
      ]
     },
     "metadata": {
      "needs_background": "light"
     },
     "output_type": "display_data"
    }
   ],
   "source": [
    "\n",
    "dfpsa = drugbank_df['polar_surface_area']\n",
    "c0 = dfpsa.isna() == False\n",
    "dfpsa = dfpsa[c0] \n",
    "c1 = dfpsa > 0\n",
    "dfpsa = dfpsa[c0 & c1] \n",
    "\n",
    "dfpsalog = dfpsa.apply(np.log10)\n",
    "dfpsalog.hist(bins= 130)"
   ]
  },
  {
   "cell_type": "markdown",
   "metadata": {},
   "source": [
    "1.8 Hydrogen Acceptor Count"
   ]
  },
  {
   "cell_type": "code",
   "execution_count": 13,
   "metadata": {},
   "outputs": [
    {
     "data": {
      "text/plain": [
       "<AxesSubplot:>"
      ]
     },
     "execution_count": 13,
     "metadata": {},
     "output_type": "execute_result"
    },
    {
     "data": {
      "image/png": "[encoded data removed]",
      "text/plain": [
       "<Figure size 432x288 with 1 Axes>"
      ]
     },
     "metadata": {
      "needs_background": "light"
     },
     "output_type": "display_data"
    }
   ],
   "source": [
    "dfhac = drugbank_df['hydrogen_acceptor_count'][drugbank_df['hydrogen_acceptor_count'] <= 75]\n",
    "c0 = dfhac.isna() == False\n",
    "dfhac = dfhac[c0] \n",
    "c1 = dfhac > 0\n",
    "dfhac = dfhac[c0 & c1] \n",
    "\n",
    "dfhaclog = dfhac.apply(np.log10)\n",
    "dfhaclog.hist(bins= 10)\n"
   ]
  },
  {
   "cell_type": "markdown",
   "metadata": {},
   "source": [
    "1.9 Hydrigen Donor Count"
   ]
  },
  {
   "cell_type": "code",
   "execution_count": 14,
   "metadata": {},
   "outputs": [
    {
     "data": {
      "text/plain": [
       "<AxesSubplot:>"
      ]
     },
     "execution_count": 14,
     "metadata": {},
     "output_type": "execute_result"
    },
    {
     "data": {
      "image/png": "[encoded data removed]",
      "text/plain": [
       "<Figure size 432x288 with 1 Axes>"
      ]
     },
     "metadata": {
      "needs_background": "light"
     },
     "output_type": "display_data"
    }
   ],
   "source": [
    "\n",
    "\n",
    "dfhdc = drugbank_df['hydrogen_donor_count']\n",
    "c0 = dfhdc.isna() == False\n",
    "dfhdc = dfhdc[c0] \n",
    "c1 = dfhdc > 0\n",
    "dfhdc = dfhdc[c0 & c1] \n",
    "\n",
    "dfhdclog = dfhdc.apply(np.log10)\n",
    "dfhdclog.hist(bins= 12)\n"
   ]
  },
  {
   "cell_type": "markdown",
   "metadata": {},
   "source": [
    "1.10 Rotable Bond Count"
   ]
  },
  {
   "cell_type": "code",
   "execution_count": 15,
   "metadata": {},
   "outputs": [
    {
     "data": {
      "text/plain": [
       "<AxesSubplot:>"
      ]
     },
     "execution_count": 15,
     "metadata": {},
     "output_type": "execute_result"
    },
    {
     "data": {
      "image/png": "[encoded data removed]",
      "text/plain": [
       "<Figure size 432x288 with 1 Axes>"
      ]
     },
     "metadata": {
      "needs_background": "light"
     },
     "output_type": "display_data"
    }
   ],
   "source": [
    "dfrbc = drugbank_df['rotable_bond_count'][drugbank_df['rotable_bond_count'] <= 50]\n",
    "\n",
    "c0 = dfrbc.isna() == False\n",
    "c1 = dfrbc > 0\n",
    "dfrbc = dfrbc[c0 & c1] \n",
    "\n",
    "rbclog = dfrbc.apply(np.log10)\n",
    "rbclog.hist(bins = 10)"
   ]
  },
  {
   "cell_type": "markdown",
   "metadata": {},
   "source": [
    "1.11 Refractivity"
   ]
  },
  {
   "cell_type": "code",
   "execution_count": 16,
   "metadata": {},
   "outputs": [
    {
     "data": {
      "text/plain": [
       "<AxesSubplot:>"
      ]
     },
     "execution_count": 16,
     "metadata": {},
     "output_type": "execute_result"
    },
    {
     "data": {
      "image/png": "[encoded data removed]",
      "text/plain": [
       "<Figure size 432x288 with 1 Axes>"
      ]
     },
     "metadata": {
      "needs_background": "light"
     },
     "output_type": "display_data"
    }
   ],
   "source": [
    "dfref = drugbank_df['refractivity']\n",
    "c0 = dfref.isna() == False\n",
    "c1 = dfref > 0\n",
    "dfref = dfref[c0 & c1] \n",
    "\n",
    "reflog = dfref.apply(np.log10)\n",
    "reflog.hist(bins = 700)\n",
    "\n"
   ]
  },
  {
   "cell_type": "markdown",
   "metadata": {},
   "source": [
    "1.12 Polarizability"
   ]
  },
  {
   "cell_type": "code",
   "execution_count": 17,
   "metadata": {},
   "outputs": [
    {
     "data": {
      "text/plain": [
       "<AxesSubplot:>"
      ]
     },
     "execution_count": 17,
     "metadata": {},
     "output_type": "execute_result"
    },
    {
     "data": {
      "image/png": "[encoded data removed]",
      "text/plain": [
       "<Figure size 432x288 with 1 Axes>"
      ]
     },
     "metadata": {
      "needs_background": "light"
     },
     "output_type": "display_data"
    }
   ],
   "source": [
    "dfpol = drugbank_df['polarizability'][drugbank_df['polarizability'] <= 250]\n",
    "c0 = dfpol.isna() == False\n",
    "c1 = dfpol > 0\n",
    "dfpol = dfpol[c0 & c1] \n",
    "\n",
    "pollog = dfpol.apply(np.log10)\n",
    "pollog.hist(bins = 700)\n"
   ]
  },
  {
   "cell_type": "markdown",
   "metadata": {},
   "source": [
    "1.13 Number of Rings"
   ]
  },
  {
   "cell_type": "code",
   "execution_count": 18,
   "metadata": {},
   "outputs": [
    {
     "data": {
      "text/plain": [
       "<AxesSubplot:>"
      ]
     },
     "execution_count": 18,
     "metadata": {},
     "output_type": "execute_result"
    },
    {
     "data": {
      "image/png": "[encoded data removed]",
      "text/plain": [
       "<Figure size 432x288 with 1 Axes>"
      ]
     },
     "metadata": {
      "needs_background": "light"
     },
     "output_type": "display_data"
    }
   ],
   "source": [
    "dfnor = drugbank_df['number_of_rings']\n",
    "c0 = dfnor.isna() == False\n",
    "c1 = dfnor > 0\n",
    "dfnor = dfnor[c0 & c1] \n",
    "\n",
    "norlog = dfnor.apply(np.log10)\n",
    "norlog.hist(bins = 8)\n"
   ]
  },
  {
   "cell_type": "markdown",
   "metadata": {},
   "source": [
    "1.14 Bioavailability"
   ]
  },
  {
   "cell_type": "code",
   "execution_count": 19,
   "metadata": {},
   "outputs": [
    {
     "data": {
      "text/plain": [
       "<AxesSubplot:>"
      ]
     },
     "execution_count": 19,
     "metadata": {},
     "output_type": "execute_result"
    },
    {
     "data": {
      "image/png": "[encoded data removed]",
      "text/plain": [
       "<Figure size 432x288 with 1 Axes>"
      ]
     },
     "metadata": {
      "needs_background": "light"
     },
     "output_type": "display_data"
    }
   ],
   "source": [
    "drugbank_df['bioavailability'].hist(bins = 6)"
   ]
  },
  {
   "cell_type": "markdown",
   "metadata": {},
   "source": [
    "# 2 Dados estatísticos"
   ]
  },
  {
   "cell_type": "code",
   "execution_count": 76,
   "metadata": {},
   "outputs": [
    {
     "data": {
      "text/html": [
       "<div>\n",
       "<style scoped>\n",
       "    .dataframe tbody tr th:only-of-type {\n",
       "        vertical-align: middle;\n",
       "    }\n",
       "\n",
       "    .dataframe tbody tr th {\n",
       "        vertical-align: top;\n",
       "    }\n",
       "\n",
       "    .dataframe thead th {\n",
       "        text-align: right;\n",
       "    }\n",
       "</style>\n",
       "<table border=\"1\" class=\"dataframe\">\n",
       "  <thead>\n",
       "    <tr style=\"text-align: right;\">\n",
       "      <th></th>\n",
       "      <th>molecular_weight</th>\n",
       "      <th>logP</th>\n",
       "      <th>logS</th>\n",
       "      <th>pKa_Acid</th>\n",
       "      <th>pKa_Basic</th>\n",
       "      <th>physiological_charge</th>\n",
       "      <th>polar_surface_area</th>\n",
       "      <th>hydrogen_acceptor_count</th>\n",
       "      <th>hydrogen_donor_count</th>\n",
       "      <th>rotable_bond_count</th>\n",
       "      <th>refractivity</th>\n",
       "      <th>polarizability</th>\n",
       "      <th>number_of_rings</th>\n",
       "      <th>bioavailability</th>\n",
       "    </tr>\n",
       "  </thead>\n",
       "  <tbody>\n",
       "    <tr>\n",
       "      <th>count</th>\n",
       "      <td>11172.000000</td>\n",
       "      <td>11170.000000</td>\n",
       "      <td>10758.000000</td>\n",
       "      <td>9404.000000</td>\n",
       "      <td>10362.000000</td>\n",
       "      <td>10758.000000</td>\n",
       "      <td>11173.000000</td>\n",
       "      <td>11173.000000</td>\n",
       "      <td>11173.000000</td>\n",
       "      <td>11173.000000</td>\n",
       "      <td>11173.000000</td>\n",
       "      <td>11169.000000</td>\n",
       "      <td>11173.000000</td>\n",
       "      <td>11173.000000</td>\n",
       "    </tr>\n",
       "    <tr>\n",
       "      <th>mean</th>\n",
       "      <td>385.041182</td>\n",
       "      <td>1.812489</td>\n",
       "      <td>-3.381529</td>\n",
       "      <td>8.462630</td>\n",
       "      <td>2.688221</td>\n",
       "      <td>-3.381529</td>\n",
       "      <td>103.252947</td>\n",
       "      <td>5.375996</td>\n",
       "      <td>2.663295</td>\n",
       "      <td>6.352278</td>\n",
       "      <td>99.349198</td>\n",
       "      <td>38.350913</td>\n",
       "      <td>2.660073</td>\n",
       "      <td>0.848564</td>\n",
       "    </tr>\n",
       "    <tr>\n",
       "      <th>std</th>\n",
       "      <td>316.550921</td>\n",
       "      <td>2.650778</td>\n",
       "      <td>1.736293</td>\n",
       "      <td>5.428678</td>\n",
       "      <td>5.742671</td>\n",
       "      <td>1.736293</td>\n",
       "      <td>126.138432</td>\n",
       "      <td>6.054114</td>\n",
       "      <td>4.070047</td>\n",
       "      <td>8.888413</td>\n",
       "      <td>78.738375</td>\n",
       "      <td>30.736014</td>\n",
       "      <td>2.236808</td>\n",
       "      <td>0.358490</td>\n",
       "    </tr>\n",
       "    <tr>\n",
       "      <th>min</th>\n",
       "      <td>3.016000</td>\n",
       "      <td>-62.000000</td>\n",
       "      <td>-9.400000</td>\n",
       "      <td>-12.000000</td>\n",
       "      <td>-10.000000</td>\n",
       "      <td>-9.400000</td>\n",
       "      <td>0.000000</td>\n",
       "      <td>0.000000</td>\n",
       "      <td>0.000000</td>\n",
       "      <td>0.000000</td>\n",
       "      <td>0.000000</td>\n",
       "      <td>0.440000</td>\n",
       "      <td>0.000000</td>\n",
       "      <td>0.000000</td>\n",
       "    </tr>\n",
       "    <tr>\n",
       "      <th>25%</th>\n",
       "      <td>246.253925</td>\n",
       "      <td>0.112500</td>\n",
       "      <td>-4.600000</td>\n",
       "      <td>3.510000</td>\n",
       "      <td>-2.900000</td>\n",
       "      <td>-4.600000</td>\n",
       "      <td>53.070000</td>\n",
       "      <td>3.000000</td>\n",
       "      <td>1.000000</td>\n",
       "      <td>3.000000</td>\n",
       "      <td>61.880000</td>\n",
       "      <td>23.660000</td>\n",
       "      <td>1.000000</td>\n",
       "      <td>1.000000</td>\n",
       "    </tr>\n",
       "    <tr>\n",
       "      <th>50%</th>\n",
       "      <td>342.924500</td>\n",
       "      <td>2.070000</td>\n",
       "      <td>-3.600000</td>\n",
       "      <td>9.200000</td>\n",
       "      <td>3.090000</td>\n",
       "      <td>-3.600000</td>\n",
       "      <td>83.120000</td>\n",
       "      <td>4.000000</td>\n",
       "      <td>2.000000</td>\n",
       "      <td>5.000000</td>\n",
       "      <td>91.580000</td>\n",
       "      <td>35.100000</td>\n",
       "      <td>3.000000</td>\n",
       "      <td>1.000000</td>\n",
       "    </tr>\n",
       "    <tr>\n",
       "      <th>75%</th>\n",
       "      <td>443.977000</td>\n",
       "      <td>3.540000</td>\n",
       "      <td>-2.200000</td>\n",
       "      <td>12.700000</td>\n",
       "      <td>8.350000</td>\n",
       "      <td>-2.200000</td>\n",
       "      <td>116.450000</td>\n",
       "      <td>6.000000</td>\n",
       "      <td>3.000000</td>\n",
       "      <td>8.000000</td>\n",
       "      <td>117.960000</td>\n",
       "      <td>45.140000</td>\n",
       "      <td>4.000000</td>\n",
       "      <td>1.000000</td>\n",
       "    </tr>\n",
       "    <tr>\n",
       "      <th>max</th>\n",
       "      <td>8272.338000</td>\n",
       "      <td>12.870000</td>\n",
       "      <td>1.200000</td>\n",
       "      <td>20.000000</td>\n",
       "      <td>21.850000</td>\n",
       "      <td>1.200000</td>\n",
       "      <td>3617.470000</td>\n",
       "      <td>191.000000</td>\n",
       "      <td>116.000000</td>\n",
       "      <td>176.000000</td>\n",
       "      <td>1931.710000</td>\n",
       "      <td>735.410000</td>\n",
       "      <td>69.000000</td>\n",
       "      <td>1.000000</td>\n",
       "    </tr>\n",
       "  </tbody>\n",
       "</table>\n",
       "</div>"
      ],
      "text/plain": [
       "       molecular_weight          logP          logS     pKa_Acid  \\\n",
       "count      11172.000000  11170.000000  10758.000000  9404.000000   \n",
       "mean         385.041182      1.812489     -3.381529     8.462630   \n",
       "std          316.550921      2.650778      1.736293     5.428678   \n",
       "min            3.016000    -62.000000     -9.400000   -12.000000   \n",
       "25%          246.253925      0.112500     -4.600000     3.510000   \n",
       "50%          342.924500      2.070000     -3.600000     9.200000   \n",
       "75%          443.977000      3.540000     -2.200000    12.700000   \n",
       "max         8272.338000     12.870000      1.200000    20.000000   \n",
       "\n",
       "          pKa_Basic  physiological_charge  polar_surface_area  \\\n",
       "count  10362.000000          10758.000000        11173.000000   \n",
       "mean       2.688221             -3.381529          103.252947   \n",
       "std        5.742671              1.736293          126.138432   \n",
       "min      -10.000000             -9.400000            0.000000   \n",
       "25%       -2.900000             -4.600000           53.070000   \n",
       "50%        3.090000             -3.600000           83.120000   \n",
       "75%        8.350000             -2.200000          116.450000   \n",
       "max       21.850000              1.200000         3617.470000   \n",
       "\n",
       "       hydrogen_acceptor_count  hydrogen_donor_count  rotable_bond_count  \\\n",
       "count             11173.000000          11173.000000        11173.000000   \n",
       "mean                  5.375996              2.663295            6.352278   \n",
       "std                   6.054114              4.070047            8.888413   \n",
       "min                   0.000000              0.000000            0.000000   \n",
       "25%                   3.000000              1.000000            3.000000   \n",
       "50%                   4.000000              2.000000            5.000000   \n",
       "75%                   6.000000              3.000000            8.000000   \n",
       "max                 191.000000            116.000000          176.000000   \n",
       "\n",
       "       refractivity  polarizability  number_of_rings  bioavailability  \n",
       "count  11173.000000    11169.000000     11173.000000     11173.000000  \n",
       "mean      99.349198       38.350913         2.660073         0.848564  \n",
       "std       78.738375       30.736014         2.236808         0.358490  \n",
       "min        0.000000        0.440000         0.000000         0.000000  \n",
       "25%       61.880000       23.660000         1.000000         1.000000  \n",
       "50%       91.580000       35.100000         3.000000         1.000000  \n",
       "75%      117.960000       45.140000         4.000000         1.000000  \n",
       "max     1931.710000      735.410000        69.000000         1.000000  "
      ]
     },
     "execution_count": 76,
     "metadata": {},
     "output_type": "execute_result"
    }
   ],
   "source": [
    "numerical_columns = drugbank_df.describe().columns\n",
    "df_numerical = drugbank_df[numerical_columns]\n",
    "df_numerical.describe()"
   ]
  },
  {
   "cell_type": "code",
   "execution_count": 56,
   "metadata": {},
   "outputs": [],
   "source": [
    "df_concat = pd.concat([mwlog, reflog, norlog, pollog, rbclog, dfhdclog,  dfhaclog, dfpsalog, dfphy, dfpkb, dfpka, dflogs, dflogp], axis =1)"
   ]
  },
  {
   "cell_type": "code",
   "execution_count": 24,
   "metadata": {},
   "outputs": [
    {
     "name": "stdout",
     "output_type": "stream",
     "text": [
      "<class 'pandas.core.frame.DataFrame'>\n",
      "Int64Index: 11173 entries, 5 to 14298\n",
      "Data columns (total 13 columns):\n",
      " #   Column                   Non-Null Count  Dtype  \n",
      "---  ------                   --------------  -----  \n",
      " 0   molecular_weight         11172 non-null  float64\n",
      " 1   refractivity             11081 non-null  float64\n",
      " 2   number_of_rings          9642 non-null   float64\n",
      " 3   polarizability           11138 non-null  float64\n",
      " 4   rotable_bond_count       10261 non-null  float64\n",
      " 5   hydrogen_donor_count     9446 non-null   float64\n",
      " 6   hydrogen_acceptor_count  10889 non-null  float64\n",
      " 7   polar_surface_area       10941 non-null  float64\n",
      " 8   physiological_charge     10758 non-null  float64\n",
      " 9   pKa_Basic                10362 non-null  float64\n",
      " 10  pKa_Acid                 9404 non-null   float64\n",
      " 11  logS                     10758 non-null  float64\n",
      " 12  logP                     11170 non-null  float64\n",
      "dtypes: float64(13)\n",
      "memory usage: 1.2 MB\n"
     ]
    }
   ],
   "source": [
    "df_concat.info()"
   ]
  },
  {
   "cell_type": "markdown",
   "metadata": {},
   "source": [
    "Trocar NaN pela média das colunas"
   ]
  },
  {
   "cell_type": "code",
   "execution_count": 63,
   "metadata": {},
   "outputs": [
    {
     "data": {
      "text/plain": [
       "molecular_weight           2.514744\n",
       "refractivity               1.924540\n",
       "number_of_rings            0.420727\n",
       "polarizability             1.496206\n",
       "rotable_bond_count         0.684715\n",
       "hydrogen_donor_count       0.362586\n",
       "hydrogen_acceptor_count    0.635509\n",
       "polar_surface_area         1.900470\n",
       "physiological_charge      -3.381529\n",
       "pKa_Basic                  2.688221\n",
       "pKa_Acid                   8.462630\n",
       "logS                      -3.381529\n",
       "logP                       1.812489\n",
       "dtype: float64"
      ]
     },
     "execution_count": 63,
     "metadata": {},
     "output_type": "execute_result"
    }
   ],
   "source": [
    "media = df_concat.mean(numeric_only=True)\n",
    "media"
   ]
  },
  {
   "cell_type": "code",
   "execution_count": 58,
   "metadata": {},
   "outputs": [
    {
     "data": {
      "text/plain": [
       "molecular_weight              1\n",
       "refractivity                 92\n",
       "number_of_rings            1531\n",
       "polarizability               35\n",
       "rotable_bond_count          912\n",
       "hydrogen_donor_count       1727\n",
       "hydrogen_acceptor_count     284\n",
       "polar_surface_area          232\n",
       "physiological_charge        415\n",
       "pKa_Basic                   811\n",
       "pKa_Acid                   1769\n",
       "logS                        415\n",
       "logP                          3\n",
       "dtype: int64"
      ]
     },
     "execution_count": 58,
     "metadata": {},
     "output_type": "execute_result"
    }
   ],
   "source": [
    "df_concat.isna().sum()"
   ]
  },
  {
   "cell_type": "code",
   "execution_count": 60,
   "metadata": {},
   "outputs": [],
   "source": [
    "df_concat.fillna(value = media , inplace = True)"
   ]
  },
  {
   "cell_type": "code",
   "execution_count": 61,
   "metadata": {},
   "outputs": [
    {
     "data": {
      "text/plain": [
       "molecular_weight           0\n",
       "refractivity               0\n",
       "number_of_rings            0\n",
       "polarizability             0\n",
       "rotable_bond_count         0\n",
       "hydrogen_donor_count       0\n",
       "hydrogen_acceptor_count    0\n",
       "polar_surface_area         0\n",
       "physiological_charge       0\n",
       "pKa_Basic                  0\n",
       "pKa_Acid                   0\n",
       "logS                       0\n",
       "logP                       0\n",
       "dtype: int64"
      ]
     },
     "execution_count": 61,
     "metadata": {},
     "output_type": "execute_result"
    }
   ],
   "source": [
    "df_concat.isna().sum()"
   ]
  },
  {
   "cell_type": "code",
   "execution_count": 65,
   "metadata": {},
   "outputs": [
    {
     "data": {
      "text/plain": [
       "array([[<AxesSubplot:title={'center':'molecular_weight'}>,\n",
       "        <AxesSubplot:title={'center':'refractivity'}>,\n",
       "        <AxesSubplot:title={'center':'number_of_rings'}>,\n",
       "        <AxesSubplot:title={'center':'polarizability'}>],\n",
       "       [<AxesSubplot:title={'center':'rotable_bond_count'}>,\n",
       "        <AxesSubplot:title={'center':'hydrogen_donor_count'}>,\n",
       "        <AxesSubplot:title={'center':'hydrogen_acceptor_count'}>,\n",
       "        <AxesSubplot:title={'center':'polar_surface_area'}>],\n",
       "       [<AxesSubplot:title={'center':'physiological_charge'}>,\n",
       "        <AxesSubplot:title={'center':'pKa_Basic'}>,\n",
       "        <AxesSubplot:title={'center':'pKa_Acid'}>,\n",
       "        <AxesSubplot:title={'center':'logS'}>],\n",
       "       [<AxesSubplot:title={'center':'logP'}>, <AxesSubplot:>,\n",
       "        <AxesSubplot:>, <AxesSubplot:>]], dtype=object)"
      ]
     },
     "execution_count": 65,
     "metadata": {},
     "output_type": "execute_result"
    },
    {
     "data": {
      "image/png": "[encoded data removed]",
      "text/plain": [
       "<Figure size 1440x1440 with 16 Axes>"
      ]
     },
     "metadata": {
      "needs_background": "light"
     },
     "output_type": "display_data"
    }
   ],
   "source": [
    "df_concat.hist(bins = 50 ,figsize=(20,20))\n"
   ]
  },
  {
   "cell_type": "code",
   "execution_count": 66,
   "metadata": {},
   "outputs": [],
   "source": [
    "df_concat.to_pickle('df_filled')"
   ]
  },
  {
   "cell_type": "code",
   "execution_count": 77,
   "metadata": {},
   "outputs": [
    {
     "data": {
      "text/plain": [
       "molecular_weight           385.041182\n",
       "logP                         1.812489\n",
       "logS                        -3.381529\n",
       "pKa_Acid                     8.462630\n",
       "pKa_Basic                    2.688221\n",
       "physiological_charge        -3.381529\n",
       "polar_surface_area         103.252947\n",
       "hydrogen_acceptor_count      5.375996\n",
       "hydrogen_donor_count         2.663295\n",
       "rotable_bond_count           6.352278\n",
       "refractivity                99.349198\n",
       "polarizability              38.350913\n",
       "number_of_rings              2.660073\n",
       "bioavailability              0.848564\n",
       "dtype: float64"
      ]
     },
     "execution_count": 77,
     "metadata": {},
     "output_type": "execute_result"
    }
   ],
   "source": [
    "df_numerical\n",
    "\n",
    "mediaN = df_numerical.mean(numeric_only=True)\n",
    "mediaN"
   ]
  },
  {
   "cell_type": "code",
   "execution_count": 70,
   "metadata": {},
   "outputs": [
    {
     "name": "stderr",
     "output_type": "stream",
     "text": [
      "c:\\Users\\gabri\\anaconda3\\envs\\Python3.8\\lib\\site-packages\\pandas\\core\\generic.py:6392: SettingWithCopyWarning: \n",
      "A value is trying to be set on a copy of a slice from a DataFrame\n",
      "\n",
      "See the caveats in the documentation: https://pandas.pydata.org/pandas-docs/stable/user_guide/indexing.html#returning-a-view-versus-a-copy\n",
      "  return self._update_inplace(result)\n"
     ]
    }
   ],
   "source": [
    "df_numerical.fillna(value = mediaN , inplace = True)"
   ]
  },
  {
   "cell_type": "code",
   "execution_count": 73,
   "metadata": {},
   "outputs": [],
   "source": [
    "df_numerical.to_pickle('df_num')"
   ]
  },
  {
   "cell_type": "code",
   "execution_count": null,
   "metadata": {},
   "outputs": [],
   "source": []
  }
 ],
 "metadata": {
  "interpreter": {
   "hash": "c90f76360b09ad76695ee9e6450b9f1aa36c1ed15694be13cbea30fdfcf8c98b"
  },
  "kernelspec": {
   "display_name": "Python 3.8.12 ('Python3.8')",
   "language": "python",
   "name": "python3"
  },
  "language_info": {
   "codemirror_mode": {
    "name": "ipython",
    "version": 3
   },
   "file_extension": ".py",
   "mimetype": "text/x-python",
   "name": "python",
   "nbconvert_exporter": "python",
   "pygments_lexer": "ipython3",
   "version": "3.8.12"
  },
  "orig_nbformat": 4
 },
 "nbformat": 4,
 "nbformat_minor": 2
}
